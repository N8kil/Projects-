{
 "cells": [
  {
   "cell_type": "markdown",
   "id": "6a7ed5cf",
   "metadata": {},
   "source": [
    "# Import the libraries"
   ]
  },
  {
   "cell_type": "code",
   "execution_count": 1,
   "id": "bf26c1b1",
   "metadata": {},
   "outputs": [],
   "source": [
    "import matplotlib.pyplot as plt\n",
    "import numpy as np\n",
    "import pandas as pd\n",
    "import seaborn as sns\n",
    "import sklearn\n",
    "from sklearn import datasets, linear_model\n",
    "from sklearn import preprocessing\n",
    "from sklearn.model_selection import train_test_split\n",
    "from sklearn.decomposition import PCA\n",
    "from sklearn.model_selection import RepeatedKFold\n",
    "from sklearn.linear_model import LassoCV\n",
    "from sklearn.model_selection import GridSearchCV\n",
    "\n",
    "from sklearn.model_selection import cross_val_score, StratifiedKFold\n",
    "from sklearn.linear_model import LinearRegression\n",
    "from sklearn.tree import DecisionTreeRegressor\n",
    "from sklearn.ensemble import RandomForestRegressor\n",
    "from sklearn.svm import SVR\n",
    "from sklearn.neural_network import MLPRegressor\n",
    "\n",
    "from sklearn import metrics\n",
    "from sklearn.metrics import mean_squared_error, r2_score, mean_absolute_error\n"
   ]
  },
  {
   "cell_type": "markdown",
   "id": "9499da45",
   "metadata": {},
   "source": [
    "# Importing the dataset"
   ]
  },
  {
   "cell_type": "code",
   "execution_count": 2,
   "id": "4356bf9f",
   "metadata": {},
   "outputs": [],
   "source": [
    "import os\n",
    "os.chdir(r'C:\\Users\\nikhi\\Desktop\\MSc DS\\1-Machine Learning\\project\\Assignment 2')\n",
    "df = pd.read_excel('TrainDataset2023.xls')"
   ]
  },
  {
   "cell_type": "code",
   "execution_count": 3,
   "id": "be92202b",
   "metadata": {},
   "outputs": [],
   "source": [
    "\n",
    "#df = pd.read_excel('TrainDataset2023.xls')"
   ]
  },
  {
   "cell_type": "code",
   "execution_count": 4,
   "id": "bd6f9710",
   "metadata": {},
   "outputs": [],
   "source": [
    "# removing the index column\n",
    "df.drop(\"ID\",inplace=True,axis=1)"
   ]
  },
  {
   "cell_type": "code",
   "execution_count": 5,
   "id": "398c0039",
   "metadata": {},
   "outputs": [],
   "source": [
    "missing_columns = [\"pCR (outcome)\",\"PgR\",\"HER2\",\"TrippleNegative\",\"ChemoGrade\",\"Proliferation\",\"HistologyType\",\"LNStatus\"]"
   ]
  },
  {
   "cell_type": "code",
   "execution_count": 6,
   "id": "44f0d598",
   "metadata": {},
   "outputs": [],
   "source": [
    "#Replacing '999' as null\n",
    "values_to_replace=999\n",
    "df.replace(values_to_replace,np.NaN ,inplace = True)"
   ]
  },
  {
   "cell_type": "code",
   "execution_count": 7,
   "id": "94607d3c",
   "metadata": {},
   "outputs": [
    {
     "data": {
      "text/plain": [
       "Index(['pCR (outcome)', 'PgR', 'HER2', 'TrippleNegative', 'ChemoGrade',\n",
       "       'Proliferation', 'HistologyType', 'LNStatus'],\n",
       "      dtype='object')"
      ]
     },
     "execution_count": 7,
     "metadata": {},
     "output_type": "execute_result"
    }
   ],
   "source": [
    "#columns which have null values\n",
    "df.columns[df.isnull().any()]"
   ]
  },
  {
   "cell_type": "code",
   "execution_count": 8,
   "id": "968d07cc",
   "metadata": {},
   "outputs": [],
   "source": [
    "# Imputing missing values with the mode of that particular column\n",
    "m1 = (df[\"PgR\"].mode()[0])\n",
    "df[\"PgR\"].fillna(value= m1,inplace=True)\n",
    "df[\"PgR\"].value_counts()\n",
    "\n",
    "\n",
    "m2 = (df[\"HER2\"].mode()[0])\n",
    "df[\"HER2\"].fillna(value= m2 , inplace =True) \n",
    "\n",
    "m3 = (df[\"TrippleNegative\"].mode()[0])\n",
    "df[\"TrippleNegative\"].fillna(value= m3 , inplace =True) \n",
    "\n",
    "m4 = (df[\"ChemoGrade\"].mode()[0])\n",
    "df[\"ChemoGrade\"].fillna(value= m4, inplace =True) \n",
    "\n",
    "m5 = (df[\"Proliferation\"].mode()[0])\n",
    "df[\"Proliferation\"].fillna(value= m5 , inplace =True)\n",
    "\n",
    "m6 = (df[\"HistologyType\"].mode()[0])\n",
    "df[\"HistologyType\"].fillna(value= m6 , inplace =True) \n",
    "\n",
    "m7 = (df[\"LNStatus\"].mode()[0])\n",
    "df[\"LNStatus\"].fillna(value= m7 , inplace =True) "
   ]
  },
  {
   "cell_type": "code",
   "execution_count": 9,
   "id": "c7084718",
   "metadata": {},
   "outputs": [
    {
     "data": {
      "text/plain": [
       "Index(['pCR (outcome)'], dtype='object')"
      ]
     },
     "execution_count": 9,
     "metadata": {},
     "output_type": "execute_result"
    }
   ],
   "source": [
    "df.columns[df.isnull().any()]"
   ]
  },
  {
   "cell_type": "markdown",
   "id": "91c6d962",
   "metadata": {},
   "source": [
    "# Splitting X and Y"
   ]
  },
  {
   "cell_type": "code",
   "execution_count": 10,
   "id": "0a773e2e",
   "metadata": {},
   "outputs": [],
   "source": [
    "X = df.iloc[:, 2:]\n",
    "y = df['RelapseFreeSurvival (outcome)']"
   ]
  },
  {
   "cell_type": "markdown",
   "id": "5b1c59b0",
   "metadata": {},
   "source": [
    "# PCA for clinical features"
   ]
  },
  {
   "cell_type": "code",
   "execution_count": 11,
   "id": "10f54409",
   "metadata": {},
   "outputs": [
    {
     "name": "stdout",
     "output_type": "stream",
     "text": [
      "(400, 11)\n"
     ]
    }
   ],
   "source": [
    "# Clinical features\n",
    "df1= df.iloc[:,1:12] #exculding pcr column\n",
    "print(df1.shape)"
   ]
  },
  {
   "cell_type": "code",
   "execution_count": 12,
   "id": "bfb410a2",
   "metadata": {},
   "outputs": [],
   "source": [
    "# Normalization\n",
    "from sklearn.preprocessing import StandardScaler\n",
    "scaler = StandardScaler()\n",
    "x1s = scaler.fit_transform(df1)"
   ]
  },
  {
   "cell_type": "code",
   "execution_count": 13,
   "id": "7fd9a4bf",
   "metadata": {},
   "outputs": [
    {
     "name": "stdout",
     "output_type": "stream",
     "text": [
      "[0.27467933 0.13556503 0.12405169 0.1032879  0.08948942 0.08844175\n",
      " 0.07490354 0.05516661 0.02825814]\n",
      "0.9738434049293073\n"
     ]
    }
   ],
   "source": [
    "# PCA\n",
    "pca1 = PCA(n_components=9)\n",
    "x1s_pca = pca1.fit_transform(x1s)\n",
    "print(pca1.explained_variance_ratio_)\n",
    "print(sum(pca1.explained_variance_ratio_))"
   ]
  },
  {
   "cell_type": "markdown",
   "id": "dfc69b57",
   "metadata": {},
   "source": [
    "# PCA for MRI features"
   ]
  },
  {
   "cell_type": "code",
   "execution_count": 14,
   "id": "2cf509f9",
   "metadata": {},
   "outputs": [
    {
     "name": "stdout",
     "output_type": "stream",
     "text": [
      "(400, 107)\n"
     ]
    }
   ],
   "source": [
    "df2=df.iloc[:,12:119]\n",
    "print(df2.shape)"
   ]
  },
  {
   "cell_type": "code",
   "execution_count": 15,
   "id": "d5dff802",
   "metadata": {},
   "outputs": [],
   "source": [
    "# normalisation\n",
    "scaler = StandardScaler()\n",
    "x2s = scaler.fit_transform(df2)"
   ]
  },
  {
   "cell_type": "code",
   "execution_count": 16,
   "id": "974694d7",
   "metadata": {},
   "outputs": [
    {
     "name": "stdout",
     "output_type": "stream",
     "text": [
      "[0.32603751 0.14592156 0.12252538 0.11409695 0.06188648 0.04810373\n",
      " 0.03132576 0.02147648 0.01981842 0.01295962 0.01127472 0.01079507\n",
      " 0.00980568 0.00846477 0.00707815]\n",
      "0.9515702992265545\n"
     ]
    }
   ],
   "source": [
    "# PCA\n",
    "pca2 = PCA(n_components=15)\n",
    "pca2 = pca2.fit(x2s)\n",
    "x2s_pca = pca2.fit_transform(x2s)\n",
    "print(pca2.explained_variance_ratio_)\n",
    "print(sum(pca2.explained_variance_ratio_))"
   ]
  },
  {
   "cell_type": "markdown",
   "id": "0cdf5573",
   "metadata": {},
   "source": [
    "# Merging the end results of both PCA"
   ]
  },
  {
   "cell_type": "code",
   "execution_count": 17,
   "id": "37d5fea9",
   "metadata": {},
   "outputs": [],
   "source": [
    "import numpy as np\n",
    "p_dff = np.concatenate((x1s_pca,x2s_pca),axis=1)"
   ]
  },
  {
   "cell_type": "code",
   "execution_count": 18,
   "id": "30f15cbc",
   "metadata": {},
   "outputs": [
    {
     "data": {
      "text/plain": [
       "(400, 24)"
      ]
     },
     "execution_count": 18,
     "metadata": {},
     "output_type": "execute_result"
    }
   ],
   "source": [
    "PCA_dff = pd.DataFrame()\n",
    "for i in range(24):\n",
    "    PCA_dff[i]= p_dff[:,i]\n",
    "PCA_dff.shape"
   ]
  },
  {
   "cell_type": "markdown",
   "id": "601b4036",
   "metadata": {},
   "source": [
    "# lassoCV for feature selection"
   ]
  },
  {
   "cell_type": "code",
   "execution_count": 19,
   "id": "9d19e37a",
   "metadata": {},
   "outputs": [
    {
     "data": {
      "text/plain": [
       "0.021429886674678496"
      ]
     },
     "execution_count": 19,
     "metadata": {},
     "output_type": "execute_result"
    }
   ],
   "source": [
    "from sklearn.linear_model import LassoCV\n",
    "model1 = LassoCV(cv=5, random_state=0, max_iter=10000)\n",
    "model1.fit(PCA_dff, y)\n",
    "model1.alpha_"
   ]
  },
  {
   "cell_type": "code",
   "execution_count": 20,
   "id": "6ca55c3b",
   "metadata": {},
   "outputs": [
    {
     "data": {
      "text/plain": [
       "array([-1.34535434e+00, -6.12063626e+00, -6.78743092e+00, -4.75617704e+00,\n",
       "        2.17479865e+01,  1.56402250e+00,  1.07078442e+01, -5.61485012e+00,\n",
       "       -5.62919196e-01, -0.00000000e+00,  2.00443990e-03, -7.03124274e-03,\n",
       "        2.93806196e-03,  8.16189368e-03,  1.39495655e-02,  1.27353553e-03,\n",
       "       -3.29025963e-03,  1.03884480e-02, -0.00000000e+00, -3.72586192e-04,\n",
       "       -0.00000000e+00,  0.00000000e+00, -0.00000000e+00, -0.00000000e+00])"
      ]
     },
     "execution_count": 20,
     "metadata": {},
     "output_type": "execute_result"
    }
   ],
   "source": [
    "# Set best alpha\n",
    "from sklearn.linear_model import Lasso\n",
    "lasso_best1 = Lasso(alpha=model1.alpha_)\n",
    "lasso_best1.fit(PCA_dff, y)\n",
    "lasso_best1.coef_"
   ]
  },
  {
   "cell_type": "code",
   "execution_count": 21,
   "id": "869d211b",
   "metadata": {},
   "outputs": [
    {
     "data": {
      "text/plain": [
       "(400, 18)"
      ]
     },
     "execution_count": 21,
     "metadata": {},
     "output_type": "execute_result"
    }
   ],
   "source": [
    "col = PCA_dff.columns\n",
    "\n",
    "a = lasso_best1.coef_\n",
    "b = np.array(col)[a!=0]\n",
    "\n",
    "las_dff = pd.DataFrame()\n",
    "for i in range(len(b)):\n",
    "    v=b[i]\n",
    "    las_dff[i]= PCA_dff[v]\n",
    "\n",
    "las_dff.shape"
   ]
  },
  {
   "cell_type": "markdown",
   "id": "e4bfd097",
   "metadata": {},
   "source": [
    "# Data Visualization"
   ]
  },
  {
   "cell_type": "code",
   "execution_count": 22,
   "id": "4b2e6496",
   "metadata": {},
   "outputs": [
    {
     "data": {
      "image/png": "[encoded data removed]",
      "text/plain": [
       "<Figure size 864x720 with 2 Axes>"
      ]
     },
     "metadata": {
      "needs_background": "light"
     },
     "output_type": "display_data"
    }
   ],
   "source": [
    "#Visualising the selected features using correlation matrix\n",
    "import seaborn as sns\n",
    "import matplotlib.pyplot as plt\n",
    "\n",
    "data = pd.concat([las_dff, y], axis=1)\n",
    "\n",
    "correlation_matrix = data.corr()\n",
    "\n",
    "plt.figure(figsize=(12, 10))\n",
    "\n",
    "sns.heatmap(correlation_matrix, annot=True, cmap=\"coolwarm\", fmt=\".2f\", linewidths=.5)\n",
    "plt.show()"
   ]
  },
  {
   "cell_type": "markdown",
   "id": "3a752194",
   "metadata": {},
   "source": [
    "# Train test split"
   ]
  },
  {
   "cell_type": "code",
   "execution_count": 23,
   "id": "4b318c45",
   "metadata": {},
   "outputs": [],
   "source": [
    "X_train, X_test, y_train, y_test = train_test_split(las_dff, y, test_size = 0.1, random_state = 42)"
   ]
  },
  {
   "cell_type": "markdown",
   "id": "a5fdec05",
   "metadata": {},
   "source": [
    "# Random Forest model"
   ]
  },
  {
   "cell_type": "code",
   "execution_count": 24,
   "id": "c98592f4",
   "metadata": {},
   "outputs": [
    {
     "name": "stdout",
     "output_type": "stream",
     "text": [
      "Random Forest Mean Squared Error: 125.34266987847222\n",
      "Random Forest R-squared: 0.8620374126181525\n",
      "Random Forest Mean Absolute Error: 8.231895833333335\n"
     ]
    }
   ],
   "source": [
    "rf_model = RandomForestRegressor(random_state=42)\n",
    "\n",
    "rf_model.fit(X_train, y_train)\n",
    "\n",
    "rf_y_pred = rf_model.predict(X_test)\n",
    "\n",
    "\n",
    "rf_mse = mean_squared_error(y_test, rf_y_pred)\n",
    "rf_r2 = r2_score(y_test, rf_y_pred)\n",
    "rf_mae = mean_absolute_error(y_test, rf_y_pred)\n",
    "\n",
    "print(f'Random Forest Mean Squared Error: {rf_mse}')\n",
    "print(f'Random Forest R-squared: {rf_r2}')\n",
    "print(f'Random Forest Mean Absolute Error: {rf_mae}')"
   ]
  },
  {
   "cell_type": "markdown",
   "id": "7316241d",
   "metadata": {},
   "source": [
    "# Linear Regression Model"
   ]
  },
  {
   "cell_type": "code",
   "execution_count": 25,
   "id": "7032cf53",
   "metadata": {},
   "outputs": [
    {
     "name": "stdout",
     "output_type": "stream",
     "text": [
      "Linear Regression Mean Squared Error: 0.19019790847215406\n",
      "Linear Regression R-squared: 0.9997906523325786\n",
      "Linear Regression Mean Absolute Error: 0.32885187662258153\n"
     ]
    }
   ],
   "source": [
    "linear_model = LinearRegression()\n",
    "\n",
    "linear_model.fit(X_train, y_train)\n",
    "\n",
    "linear_y_pred = linear_model.predict(X_test)\n",
    "\n",
    "linear_mse = mean_squared_error(y_test, linear_y_pred)\n",
    "linear_r2 = r2_score(y_test, linear_y_pred)\n",
    "linear_mae = mean_absolute_error(y_test, linear_y_pred)\n",
    "\n",
    "print(f'Linear Regression Mean Squared Error: {linear_mse}')\n",
    "print(f'Linear Regression R-squared: {linear_r2}')\n",
    "print(f'Linear Regression Mean Absolute Error: {linear_mae}')"
   ]
  },
  {
   "cell_type": "markdown",
   "id": "4c169339",
   "metadata": {},
   "source": [
    "# Decisison Tree model"
   ]
  },
  {
   "cell_type": "code",
   "execution_count": 26,
   "id": "736eda8c",
   "metadata": {},
   "outputs": [
    {
     "name": "stdout",
     "output_type": "stream",
     "text": [
      "Decision Tree Mean Squared Error: 329.1460069444444\n",
      "Decision Tree R-squared: 0.6377144767341651\n",
      "Decision Tree Mean Absolute Error: 14.810416666666665\n"
     ]
    }
   ],
   "source": [
    "tree_model = DecisionTreeRegressor(random_state=90)\n",
    "\n",
    "tree_model.fit(X_train, y_train)\n",
    "\n",
    "tree_y_pred = tree_model.predict(X_test)\n",
    "\n",
    "tree_mse = mean_squared_error(y_test, tree_y_pred)\n",
    "tree_r2 = r2_score(y_test, tree_y_pred)\n",
    "tree_mae = mean_absolute_error(y_test, tree_y_pred)\n",
    "\n",
    "print(f'Decision Tree Mean Squared Error: {tree_mse}')\n",
    "print(f'Decision Tree R-squared: {tree_r2}')\n",
    "print(f'Decision Tree Mean Absolute Error: {tree_mae}')"
   ]
  },
  {
   "cell_type": "markdown",
   "id": "f2590bd8",
   "metadata": {},
   "source": [
    "# SVR model"
   ]
  },
  {
   "cell_type": "code",
   "execution_count": 27,
   "id": "a3de4d95",
   "metadata": {},
   "outputs": [
    {
     "name": "stdout",
     "output_type": "stream",
     "text": [
      "SVR Mean Squared Error: 766.3068953363305\n",
      "SVR R-squared: 0.15653877397334237\n",
      "SVR Mean Absolute Error: 20.950233359491207\n"
     ]
    }
   ],
   "source": [
    "svr_model = SVR()\n",
    "\n",
    "svr_model.fit(X_train, y_train)\n",
    "\n",
    "svr_y_pred = svr_model.predict(X_test)\n",
    "\n",
    "svr_mse = mean_squared_error(y_test, svr_y_pred)\n",
    "svr_r2 = r2_score(y_test, svr_y_pred)\n",
    "svr_mae = mean_absolute_error(y_test, svr_y_pred)\n",
    "\n",
    "print(f'SVR Mean Squared Error: {svr_mse}')\n",
    "print(f'SVR R-squared: {svr_r2}')\n",
    "print(f'SVR Mean Absolute Error: {svr_mae}')"
   ]
  },
  {
   "cell_type": "markdown",
   "id": "ef58b97b",
   "metadata": {},
   "source": [
    "# Neural Network Model"
   ]
  },
  {
   "cell_type": "code",
   "execution_count": 28,
   "id": "5d824e69",
   "metadata": {
    "scrolled": false
   },
   "outputs": [
    {
     "name": "stdout",
     "output_type": "stream",
     "text": [
      "Neural Network Mean Squared Error: 24.390995205656452\n",
      "Neural Network R-squared: 0.9731532381538288\n",
      "MLP Mean Absolute Error: 3.8565513755605516\n"
     ]
    },
    {
     "name": "stderr",
     "output_type": "stream",
     "text": [
      "C:\\Users\\nikhi\\anaconda3\\lib\\site-packages\\sklearn\\neural_network\\_multilayer_perceptron.py:614: ConvergenceWarning: Stochastic Optimizer: Maximum iterations (1500) reached and the optimization hasn't converged yet.\n",
      "  warnings.warn(\n"
     ]
    }
   ],
   "source": [
    "mlp_model = MLPRegressor(alpha=0.0001, hidden_layer_sizes=(100,), max_iter=1500, random_state=20)\n",
    "\n",
    "mlp_model.fit(X_train, y_train)\n",
    "mlp_y_pred = mlp_model.predict(X_test)\n",
    "\n",
    "mlp_mse = mean_squared_error(y_test, mlp_y_pred)\n",
    "mlp_r2 = r2_score(y_test, mlp_y_pred)\n",
    "mlp_mae = mean_absolute_error(y_test, mlp_y_pred)\n",
    "\n",
    "print(f'Neural Network Mean Squared Error: {mlp_mse}')\n",
    "print(f'Neural Network R-squared: {mlp_r2}')\n",
    "print(f'MLP Mean Absolute Error: {mlp_mae}')"
   ]
  },
  {
   "cell_type": "markdown",
   "id": "65e81f98",
   "metadata": {},
   "source": [
    "# Printing the MLP model parameters"
   ]
  },
  {
   "cell_type": "code",
   "execution_count": 29,
   "id": "40f1504a",
   "metadata": {},
   "outputs": [
    {
     "name": "stdout",
     "output_type": "stream",
     "text": [
      "Model Parameters:\n",
      "activation: relu\n",
      "alpha: 0.0001\n",
      "batch_size: auto\n",
      "beta_1: 0.9\n",
      "beta_2: 0.999\n",
      "early_stopping: False\n",
      "epsilon: 1e-08\n",
      "hidden_layer_sizes: (100,)\n",
      "learning_rate: constant\n",
      "learning_rate_init: 0.001\n",
      "max_fun: 15000\n",
      "max_iter: 1500\n",
      "momentum: 0.9\n",
      "n_iter_no_change: 10\n",
      "nesterovs_momentum: True\n",
      "power_t: 0.5\n",
      "random_state: 20\n",
      "shuffle: True\n",
      "solver: adam\n",
      "tol: 0.0001\n",
      "validation_fraction: 0.1\n",
      "verbose: False\n",
      "warm_start: False\n"
     ]
    }
   ],
   "source": [
    "# Get the model parameters\n",
    "model_params = mlp_model.get_params()\n",
    "\n",
    "# Display the parameters\n",
    "print(\"Model Parameters:\")\n",
    "for param, value in model_params.items():\n",
    "    print(f\"{param}: {value}\")"
   ]
  },
  {
   "cell_type": "markdown",
   "id": "d2bf5244",
   "metadata": {},
   "source": [
    "# Scatter plot for visualising actual and predicted values for the MLP model"
   ]
  },
  {
   "cell_type": "code",
   "execution_count": 30,
   "id": "01fe1582",
   "metadata": {},
   "outputs": [
    {
     "data": {
      "image/png": "[encoded data removed]",
      "text/plain": [
       "<Figure size 432x288 with 1 Axes>"
      ]
     },
     "metadata": {
      "needs_background": "light"
     },
     "output_type": "display_data"
    }
   ],
   "source": [
    "# Scatter plot for actual vs. predicted values\n",
    "plt.scatter(y_test, mlp_y_pred, color='blue', label='Actual vs. Predicted')\n",
    "plt.plot([min(y_test), max(y_test)], [min(y_test), max(y_test)], linestyle='--', color='red', linewidth=2, label='Ideal Prediction')\n",
    "\n",
    "plt.xlabel('Actual Values')\n",
    "plt.ylabel('Predicted Values')\n",
    "plt.title('MLP Regression: Actual vs. Predicted')\n",
    "plt.legend()\n",
    "plt.show()"
   ]
  },
  {
   "cell_type": "markdown",
   "id": "70895342",
   "metadata": {},
   "source": [
    "# Hyperparameter Tuning for the MLP model"
   ]
  },
  {
   "cell_type": "code",
   "execution_count": 31,
   "id": "c8afd728",
   "metadata": {
    "scrolled": false
   },
   "outputs": [
    {
     "name": "stdout",
     "output_type": "stream",
     "text": [
      "Best Hyperparameters: {'alpha': 0.0001, 'hidden_layer_sizes': (100,), 'max_iter': 1500}\n",
      "Neural Network Mean Squared Error: 24.390995205656452\n",
      "Neural Network R-squared: 0.9731532381538288\n",
      "Neural Network Mean Absolute Value: 3.8565513755605516\n"
     ]
    },
    {
     "name": "stderr",
     "output_type": "stream",
     "text": [
      "C:\\Users\\nikhi\\anaconda3\\lib\\site-packages\\sklearn\\neural_network\\_multilayer_perceptron.py:614: ConvergenceWarning: Stochastic Optimizer: Maximum iterations (1500) reached and the optimization hasn't converged yet.\n",
      "  warnings.warn(\n"
     ]
    }
   ],
   "source": [
    "from sklearn.model_selection import GridSearchCV\n",
    "\n",
    "mlp_model = MLPRegressor(random_state=20)\n",
    "\n",
    "param_grid = {\n",
    "    'hidden_layer_sizes': [(50,), (100,), (50, 25), (100, 50)],\n",
    "    'max_iter': [500, 1000, 1500],\n",
    "    'alpha': [0.0001, 0.001, 0.01],\n",
    "}\n",
    "grid_search = GridSearchCV(mlp_model, param_grid, cv=5, scoring='neg_mean_squared_error', n_jobs=-1)\n",
    "\n",
    "\n",
    "grid_search.fit(X_train, y_train)\n",
    "best_params = grid_search.best_params_\n",
    "\n",
    "best_mlp_model = grid_search.best_estimator_\n",
    "mlp_y_pred_hyper = best_mlp_model.predict(X_test)\n",
    "\n",
    "\n",
    "mlp_mse = mean_squared_error(y_test, mlp_y_pred_hyper)\n",
    "mlp_r2 = r2_score(y_test, mlp_y_pred_hyper)\n",
    "mlp_mae = mean_absolute_error(y_test, mlp_y_pred_hyper)\n",
    "\n",
    "print(f'Best Hyperparameters: {best_params}')\n",
    "print(f'Neural Network Mean Squared Error: {mlp_mse}')\n",
    "print(f'Neural Network R-squared: {mlp_r2}')\n",
    "print(f'Neural Network Mean Absolute Value: {mlp_mae}')"
   ]
  },
  {
   "cell_type": "markdown",
   "id": "603de874",
   "metadata": {},
   "source": [
    "# Visualisation of the MAE results for each model"
   ]
  },
  {
   "cell_type": "code",
   "execution_count": 32,
   "id": "18541594",
   "metadata": {},
   "outputs": [
    {
     "data": {
      "image/png": "[encoded data removed]",
      "text/plain": [
       "<Figure size 720x432 with 1 Axes>"
      ]
     },
     "metadata": {
      "needs_background": "light"
     },
     "output_type": "display_data"
    }
   ],
   "source": [
    "import matplotlib.pyplot as plt\n",
    "\n",
    "# Example data (replace with your actual data)\n",
    "models = ['Random Forest', 'Linear Regression', 'Decision Tree', 'SVR', 'MLP']\n",
    "mae_values = [8.231895833333335, 0.32885187662258203, 14.810416666666665, 20.950233359491204, 4.237988140826213]\n",
    "\n",
    "# Plotting bar chart\n",
    "plt.figure(figsize=(10, 6))\n",
    "plt.bar(models, mae_values, color='green')\n",
    "plt.xlabel('Models')\n",
    "plt.ylabel('Mean Absolute Error (MAE)')\n",
    "plt.title('Comparison of Mean Absolute Error Among Different Models')\n",
    "plt.ylim(0, max(mae_values) + 5)  # Adjust the y-axis limits if needed\n",
    "plt.show()"
   ]
  },
  {
   "cell_type": "code",
   "execution_count": null,
   "id": "cfb9d60e",
   "metadata": {},
   "outputs": [],
   "source": []
  },
  {
   "cell_type": "markdown",
   "id": "062ab3f2",
   "metadata": {},
   "source": [
    "# Cross validation for the MLP model"
   ]
  },
  {
   "cell_type": "code",
   "execution_count": 33,
   "id": "48ad3cb7",
   "metadata": {},
   "outputs": [
    {
     "name": "stderr",
     "output_type": "stream",
     "text": [
      "C:\\Users\\nikhi\\anaconda3\\lib\\site-packages\\sklearn\\neural_network\\_multilayer_perceptron.py:614: ConvergenceWarning: Stochastic Optimizer: Maximum iterations (1500) reached and the optimization hasn't converged yet.\n",
      "  warnings.warn(\n",
      "C:\\Users\\nikhi\\anaconda3\\lib\\site-packages\\sklearn\\neural_network\\_multilayer_perceptron.py:614: ConvergenceWarning: Stochastic Optimizer: Maximum iterations (1500) reached and the optimization hasn't converged yet.\n",
      "  warnings.warn(\n",
      "C:\\Users\\nikhi\\anaconda3\\lib\\site-packages\\sklearn\\neural_network\\_multilayer_perceptron.py:614: ConvergenceWarning: Stochastic Optimizer: Maximum iterations (1500) reached and the optimization hasn't converged yet.\n",
      "  warnings.warn(\n",
      "C:\\Users\\nikhi\\anaconda3\\lib\\site-packages\\sklearn\\neural_network\\_multilayer_perceptron.py:614: ConvergenceWarning: Stochastic Optimizer: Maximum iterations (1500) reached and the optimization hasn't converged yet.\n",
      "  warnings.warn(\n",
      "C:\\Users\\nikhi\\anaconda3\\lib\\site-packages\\sklearn\\neural_network\\_multilayer_perceptron.py:614: ConvergenceWarning: Stochastic Optimizer: Maximum iterations (1500) reached and the optimization hasn't converged yet.\n",
      "  warnings.warn(\n",
      "C:\\Users\\nikhi\\anaconda3\\lib\\site-packages\\sklearn\\neural_network\\_multilayer_perceptron.py:614: ConvergenceWarning: Stochastic Optimizer: Maximum iterations (1500) reached and the optimization hasn't converged yet.\n",
      "  warnings.warn(\n",
      "C:\\Users\\nikhi\\anaconda3\\lib\\site-packages\\sklearn\\neural_network\\_multilayer_perceptron.py:614: ConvergenceWarning: Stochastic Optimizer: Maximum iterations (1500) reached and the optimization hasn't converged yet.\n",
      "  warnings.warn(\n",
      "C:\\Users\\nikhi\\anaconda3\\lib\\site-packages\\sklearn\\neural_network\\_multilayer_perceptron.py:614: ConvergenceWarning: Stochastic Optimizer: Maximum iterations (1500) reached and the optimization hasn't converged yet.\n",
      "  warnings.warn(\n",
      "C:\\Users\\nikhi\\anaconda3\\lib\\site-packages\\sklearn\\neural_network\\_multilayer_perceptron.py:614: ConvergenceWarning: Stochastic Optimizer: Maximum iterations (1500) reached and the optimization hasn't converged yet.\n",
      "  warnings.warn(\n"
     ]
    },
    {
     "name": "stdout",
     "output_type": "stream",
     "text": [
      "R-squared scores for each fold: [0.92305856 0.94974911 0.91134957 0.65256588 0.9150258 ]\n",
      "\n",
      "Average R-squared: 0.8703497839463047\n",
      "Standard Deviation of R-squared: 0.10971711300735136\n",
      "MAE scores for each fold: [5.43404946 4.86184661 4.39379601 6.23187192 5.44739346]\n",
      "Average MAE: 5.273791491612201\n",
      "Standard Deviation of MAE: 0.619326892620683\n"
     ]
    },
    {
     "name": "stderr",
     "output_type": "stream",
     "text": [
      "C:\\Users\\nikhi\\anaconda3\\lib\\site-packages\\sklearn\\neural_network\\_multilayer_perceptron.py:614: ConvergenceWarning: Stochastic Optimizer: Maximum iterations (1500) reached and the optimization hasn't converged yet.\n",
      "  warnings.warn(\n"
     ]
    }
   ],
   "source": [
    "from sklearn.model_selection import cross_val_score\n",
    "from sklearn.neural_network import MLPRegressor\n",
    "from sklearn.metrics import r2_score\n",
    "import numpy as np\n",
    "\n",
    "mlp_model = MLPRegressor(alpha=0.0001,hidden_layer_sizes=(100,), max_iter=1500, random_state=20)\n",
    "n_folds = 5\n",
    "\n",
    "# K-fold cross-validation\n",
    "r2_scores = cross_val_score(mlp_model, X_train, y_train, cv=n_folds, scoring='r2')\n",
    "mae_scores = cross_val_score(mlp_model, X_train, y_train, cv=n_folds, scoring='neg_mean_absolute_error')\n",
    "\n",
    "# Average and standard deviation of R-squared values\n",
    "avg_r2 = np.mean(r2_scores)\n",
    "std_r2 = np.std(r2_scores)\n",
    "\n",
    "# Average and standard deviation of MAE values\n",
    "avg_mae = -np.mean(mae_scores)  # Note: negate the MAE scores as cross_val_score returns negative values\n",
    "std_mae = np.std(-mae_scores)\n",
    "\n",
    "print(\"R-squared scores for each fold:\", r2_scores)\n",
    "print(f'\\nAverage R-squared: {avg_r2}')\n",
    "print(f'Standard Deviation of R-squared: {std_r2}')\n",
    "\n",
    "print(\"MAE scores for each fold:\", -mae_scores)\n",
    "print(f'Average MAE: {avg_mae}')\n",
    "print(f'Standard Deviation of MAE: {std_mae}')\n"
   ]
  },
  {
   "cell_type": "code",
   "execution_count": 34,
   "id": "d5b0bb77",
   "metadata": {
    "scrolled": true
   },
   "outputs": [
    {
     "data": {
      "image/png": "[encoded data removed]",
      "text/plain": [
       "<Figure size 720x432 with 1 Axes>"
      ]
     },
     "metadata": {
      "needs_background": "light"
     },
     "output_type": "display_data"
    }
   ],
   "source": [
    "plt.figure(figsize=(10, 6))\n",
    "plt.bar(range(1, n_folds + 1), -mae_scores, color='green', alpha=0.7, label='MAE')\n",
    "plt.axhline(y=avg_mae, color='purple', linestyle='--', label='Average MAE')\n",
    "plt.xlabel('Fold')\n",
    "plt.ylabel('Mean Absolute Error (MAE)')\n",
    "plt.title('MAE Scores for Each Fold in Cross-Validation')\n",
    "plt.legend()\n",
    "plt.show()"
   ]
  },
  {
   "cell_type": "code",
   "execution_count": 35,
   "id": "cc25ed6f",
   "metadata": {},
   "outputs": [],
   "source": [
    "# For pipeline creation."
   ]
  },
  {
   "cell_type": "code",
   "execution_count": 36,
   "id": "7b89ea4f",
   "metadata": {},
   "outputs": [],
   "source": [
    "from sklearn.pipeline import Pipeline\n",
    "from sklearn.compose import ColumnTransformer\n",
    "from sklearn.decomposition import PCA\n",
    "from sklearn.preprocessing import StandardScaler\n",
    "from sklearn.ensemble import RandomForestClassifier\n",
    "from sklearn.neural_network import MLPRegressor\n",
    "\n",
    "# Define the first and second part of the pipeline\n",
    "pipeline1 = Pipeline([\n",
    "    ('scaler1', StandardScaler()),\n",
    "    ('pca1', PCA(n_components=9))\n",
    "])\n",
    "\n",
    "pipeline2 = Pipeline([\n",
    "    ('scaler2', StandardScaler()),\n",
    "    ('pca2', PCA(n_components=15))\n",
    "])\n",
    "\n",
    "# Combine both parts using ColumnTransformer\n",
    "preprocessor = ColumnTransformer(\n",
    "    transformers=[\n",
    "        ('first_split', pipeline1, slice(0, 12)),\n",
    "        ('second_split', pipeline2, slice(12, X.shape[1]))\n",
    "    ])\n",
    "\n",
    "# Placeholder for the model, to be specified later\n",
    "model_placeholder = RandomForestClassifier()  # Default model\n",
    "\n",
    "# Final pipeline\n",
    "final_pipeline = Pipeline([\n",
    "    ('preprocessor', preprocessor),\n",
    "    ('model', model_placeholder)\n",
    "])\n",
    "\n"
   ]
  },
  {
   "cell_type": "code",
   "execution_count": 37,
   "id": "4e97fc57",
   "metadata": {},
   "outputs": [],
   "source": [
    "from sklearn.model_selection import train_test_split\n",
    "\n",
    "df = pd.read_excel('TrainDataset2023.xls')\n",
    "\n",
    "df.drop(\"ID\",inplace=True,axis=1)\n",
    "\n",
    "X = df.drop(['pCR (outcome)', 'RelapseFreeSurvival (outcome)'], axis=1)\n",
    "y_rfs = df['RelapseFreeSurvival (outcome)']  \n",
    "\n",
    "X_train_rfs, X_test_rfs, y_train_rfs, y_test_rfs = train_test_split(X, y_rfs, test_size=0.2, random_state=42)\n"
   ]
  },
  {
   "cell_type": "code",
   "execution_count": 38,
   "id": "ce8a394a",
   "metadata": {},
   "outputs": [
    {
     "name": "stderr",
     "output_type": "stream",
     "text": [
      "C:\\Users\\nikhi\\anaconda3\\lib\\site-packages\\sklearn\\neural_network\\_multilayer_perceptron.py:614: ConvergenceWarning: Stochastic Optimizer: Maximum iterations (200) reached and the optimization hasn't converged yet.\n",
      "  warnings.warn(\n"
     ]
    }
   ],
   "source": [
    "final_pipeline.set_params(model=MLPRegressor(random_state=20))\n",
    "final_pipeline.fit(X_train_rfs, y_train_rfs)\n",
    "predictions_rfs = final_pipeline.predict(X_test_rfs)"
   ]
  },
  {
   "cell_type": "code",
   "execution_count": 39,
   "id": "43f002cd",
   "metadata": {},
   "outputs": [
    {
     "data": {
      "text/plain": [
       "Pipeline(steps=[('preprocessor',\n",
       "                 ColumnTransformer(transformers=[('first_split',\n",
       "                                                  Pipeline(steps=[('scaler1',\n",
       "                                                                   StandardScaler()),\n",
       "                                                                  ('pca1',\n",
       "                                                                   PCA(n_components=9))]),\n",
       "                                                  slice(0, 12, None)),\n",
       "                                                 ('second_split',\n",
       "                                                  Pipeline(steps=[('scaler2',\n",
       "                                                                   StandardScaler()),\n",
       "                                                                  ('pca2',\n",
       "                                                                   PCA(n_components=15))]),\n",
       "                                                  slice(12, 117, None))])),\n",
       "                ('model', MLPRegressor(random_state=20))])"
      ]
     },
     "execution_count": 39,
     "metadata": {},
     "output_type": "execute_result"
    }
   ],
   "source": [
    "final_pipeline"
   ]
  },
  {
   "cell_type": "code",
   "execution_count": 43,
   "id": "1d0ff71f",
   "metadata": {},
   "outputs": [],
   "source": [
    "with open(\"final_pipeline.pkl\",\"wb\") as f:\n",
    "   pickle.dump(final_pipeline,f)"
   ]
  },
  {
   "cell_type": "code",
   "execution_count": 42,
   "id": "4ba2230a",
   "metadata": {},
   "outputs": [],
   "source": [
    "import pickle"
   ]
  },
  {
   "cell_type": "code",
   "execution_count": null,
   "id": "fabdc4f1",
   "metadata": {},
   "outputs": [],
   "source": []
  },
  {
   "cell_type": "code",
   "execution_count": null,
   "id": "47f2e8c0",
   "metadata": {},
   "outputs": [],
   "source": []
  }
 ],
 "metadata": {
  "kernelspec": {
   "display_name": "Python 3",
   "language": "python",
   "name": "python3"
  },
  "language_info": {
   "codemirror_mode": {
    "name": "ipython",
    "version": 3
   },
   "file_extension": ".py",
   "mimetype": "text/x-python",
   "name": "python",
   "nbconvert_exporter": "python",
   "pygments_lexer": "ipython3",
   "version": "3.8.8"
  }
 },
 "nbformat": 4,
 "nbformat_minor": 5
}
